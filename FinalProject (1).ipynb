{
  "nbformat": 4,
  "nbformat_minor": 0,
  "metadata": {
    "colab": {
      "name": "FinalProject.ipynb",
      "version": "0.3.2",
      "provenance": [],
      "collapsed_sections": []
    },
    "kernelspec": {
      "display_name": "Python 3",
      "language": "python",
      "name": "python3"
    }
  },
  "cells": [
    {
      "metadata": {
        "id": "6X9oyH0_T1bx",
        "colab_type": "text"
      },
      "cell_type": "markdown",
      "source": [
        "# COGS 108 - Final Project"
      ]
    },
    {
      "metadata": {
        "id": "P0aiklLKT1bz",
        "colab_type": "text"
      },
      "cell_type": "markdown",
      "source": [
        "## Important\n",
        "\n",
        "- ONE, and only one, member of your group should upload this notebook to TritonED. \n",
        "- Each member of the group will receive the same grade on this assignment. \n",
        "- Keep the file name the same: submit the file 'FinalProject.ipynb'.\n",
        "- Only upload the .ipynb file to TED, do not upload any associted data. Make sure that for cells in which you want graders to see output that these cells have been executed."
      ]
    },
    {
      "metadata": {
        "id": "uZrLSoYrT1b0",
        "colab_type": "text"
      },
      "cell_type": "markdown",
      "source": [
        "## Group Members: Fill in the Student IDs of each group member here\n",
        "\n",
        "Replace the lines below to list each persons full student ID, ucsd email and full name.\n",
        "\n",
        "- A91098061 yuw247@ucsd.edu Yuan Wu\n",
        "-  \n",
        "- \n",
        "- A11839833 k3reed@ucsd.edu Kyle Reed\n",
        "- \n"
      ]
    },
    {
      "metadata": {
        "id": "0VbQfawTT1b1",
        "colab_type": "text"
      },
      "cell_type": "markdown",
      "source": [
        "Start your project here."
      ]
    },
    {
      "metadata": {
        "id": "WroZZDIIUycP",
        "colab_type": "code",
        "colab": {}
      },
      "cell_type": "code",
      "source": [
        "#Tasks:\n",
        "- Import Data\n",
        "- Adjust cancer mortality for cancer incidence(?)\n",
        "- Visualize GDP vs Cancer rates (bar graph of state gdp next to a bar graph of state cancer rates in order of decending gdp)\n",
        "- Perform linear regression (per year + combined?)\n",
        "- visualize regression (scatter plot of the GDP vs Cancer rate, with regression line shown. Timepoints 2000, 2005, 2010, 2015)\n",
        "\n",
        "\n",
        "\n",
        "\n"
      ],
      "execution_count": 0,
      "outputs": []
    },
    {
      "metadata": {
        "id": "yUzUHwU1aCnZ",
        "colab_type": "code",
        "colab": {}
      },
      "cell_type": "code",
      "source": [
        "# import modules here\n",
        "%matplotlib inline\n",
        "\n",
        "import numpy as np\n",
        "import pandas as pd\n",
        "import seaborn as sns\n",
        "import matplotlib.pyplot as plt\n",
        "\n",
        "import requests\n",
        "import bs4\n",
        "from bs4 import BeautifulSoup\n",
        "\n",
        "import patsy\n",
        "import statsmodels.api as sm\n",
        "import scipy.stats as stats\n",
        "from scipy.stats import ttest_ind, chisquare, normaltest"
      ],
      "execution_count": 0,
      "outputs": []
    },
    {
      "metadata": {
        "id": "TaMASGvkcUgP",
        "colab_type": "code",
        "colab": {}
      },
      "cell_type": "code",
      "source": [
        "# Configure libraries\n",
        "sns.set()\n",
        "sns.set_context('talk')\n",
        "\n",
        "pd.options.display.max_rows = 7\n",
        "pd.options.display.max_columns = 8\n",
        "\n",
        "pd.set_option('precision', 2)"
      ],
      "execution_count": 0,
      "outputs": []
    },
    {
      "metadata": {
        "id": "fWHxJRAcaGM3",
        "colab_type": "code",
        "outputId": "bb756268-29dd-40b0-b114-412d92afb380",
        "colab": {
          "base_uri": "https://localhost:8080/",
          "height": 229
        }
      },
      "cell_type": "code",
      "source": [
        "# import data here\n",
        "\n",
        "\n",
        "GDP = pd.read_csv('GDPPC.csv')\n",
        "cancer_2000 = pd.read_table('CancerRates_2000.txt', delim_whitespace=True)\n",
        "cancer_2005 = pd.read_table('CancerRates_2005.txt', delim_whitespace=True)\n",
        "cancer_2010 = pd.read_table('CancerRates_2010.txt', delim_whitespace=True)\n",
        "cancer_2015 = pd.read_table('CancerRates_2015.txt', delim_whitespace=True)\n"
      ],
      "execution_count": 0,
      "outputs": [
        {
          "output_type": "error",
          "ename": "NameError",
          "evalue": "ignored",
          "traceback": [
            "\u001b[0;31m---------------------------------------------------------------------------\u001b[0m",
            "\u001b[0;31mNameError\u001b[0m                                 Traceback (most recent call last)",
            "\u001b[0;32m<ipython-input-1-2e7849ac6abe>\u001b[0m in \u001b[0;36m<module>\u001b[0;34m()\u001b[0m\n\u001b[1;32m      1\u001b[0m \u001b[0;34m\u001b[0m\u001b[0m\n\u001b[1;32m      2\u001b[0m \u001b[0;34m\u001b[0m\u001b[0m\n\u001b[0;32m----> 3\u001b[0;31m \u001b[0mGDP\u001b[0m \u001b[0;34m=\u001b[0m \u001b[0mpd\u001b[0m\u001b[0;34m.\u001b[0m\u001b[0mread_csv\u001b[0m\u001b[0;34m(\u001b[0m\u001b[0;34m'GDPPC.csv'\u001b[0m\u001b[0;34m)\u001b[0m\u001b[0;34m\u001b[0m\u001b[0;34m\u001b[0m\u001b[0m\n\u001b[0m\u001b[1;32m      4\u001b[0m \u001b[0mcancer_2000\u001b[0m \u001b[0;34m=\u001b[0m \u001b[0mpd\u001b[0m\u001b[0;34m.\u001b[0m\u001b[0mread_table\u001b[0m\u001b[0;34m(\u001b[0m\u001b[0;34m'CancerRates_2000.txt'\u001b[0m\u001b[0;34m,\u001b[0m \u001b[0mdelim_whitespace\u001b[0m\u001b[0;34m=\u001b[0m\u001b[0;32mTrue\u001b[0m\u001b[0;34m)\u001b[0m\u001b[0;34m\u001b[0m\u001b[0;34m\u001b[0m\u001b[0m\n\u001b[1;32m      5\u001b[0m \u001b[0mcancer_2005\u001b[0m \u001b[0;34m=\u001b[0m \u001b[0mpd\u001b[0m\u001b[0;34m.\u001b[0m\u001b[0mread_table\u001b[0m\u001b[0;34m(\u001b[0m\u001b[0;34m'CancerRates_2005.txt'\u001b[0m\u001b[0;34m,\u001b[0m \u001b[0mdelim_whitespace\u001b[0m\u001b[0;34m=\u001b[0m\u001b[0;32mTrue\u001b[0m\u001b[0;34m)\u001b[0m\u001b[0;34m\u001b[0m\u001b[0;34m\u001b[0m\u001b[0m\n",
            "\u001b[0;31mNameError\u001b[0m: name 'pd' is not defined"
          ]
        }
      ]
    },
    {
      "metadata": {
        "id": "5ndebJoLey8t",
        "colab_type": "code",
        "outputId": "774cb10a-e212-4d6f-f8e3-f6b271fa5e1b",
        "colab": {
          "base_uri": "https://localhost:8080/",
          "height": 173
        }
      },
      "cell_type": "code",
      "source": [
        "cancer_2000"
      ],
      "execution_count": 0,
      "outputs": [
        {
          "output_type": "error",
          "ename": "NameError",
          "evalue": "ignored",
          "traceback": [
            "\u001b[0;31m---------------------------------------------------------------------------\u001b[0m",
            "\u001b[0;31mNameError\u001b[0m                                 Traceback (most recent call last)",
            "\u001b[0;32m<ipython-input-4-783f1dca0cf7>\u001b[0m in \u001b[0;36m<module>\u001b[0;34m()\u001b[0m\n\u001b[0;32m----> 1\u001b[0;31m \u001b[0mcancer_2000\u001b[0m\u001b[0;34m\u001b[0m\u001b[0;34m\u001b[0m\u001b[0m\n\u001b[0m",
            "\u001b[0;31mNameError\u001b[0m: name 'cancer_2000' is not defined"
          ]
        }
      ]
    },
    {
      "metadata": {
        "id": "2mqXvDFMaJc6",
        "colab_type": "code",
        "colab": {}
      },
      "cell_type": "code",
      "source": [
        "# clean data here\n",
        "canc"
      ],
      "execution_count": 0,
      "outputs": []
    },
    {
      "metadata": {
        "id": "AGqGelHwaPnf",
        "colab_type": "code",
        "colab": {}
      },
      "cell_type": "code",
      "source": [
        "# visualize GDP vs Cancer rates"
      ],
      "execution_count": 0,
      "outputs": []
    },
    {
      "metadata": {
        "id": "q0UgjBrpaLrR",
        "colab_type": "code",
        "colab": {}
      },
      "cell_type": "code",
      "source": [
        "# analyze GDP vs Cancer rates here"
      ],
      "execution_count": 0,
      "outputs": []
    },
    {
      "metadata": {
        "id": "rrtJURhcaSbQ",
        "colab_type": "code",
        "colab": {}
      },
      "cell_type": "code",
      "source": [
        "# visualize the regression line"
      ],
      "execution_count": 0,
      "outputs": []
    }
  ]
}